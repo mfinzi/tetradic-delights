{
 "cells": [
  {
   "cell_type": "code",
   "execution_count": 62,
   "metadata": {},
   "outputs": [],
   "source": [
    "import torch\n",
    "\n",
    "\n",
    "def schwarzchild_metric(x,M=1):\n",
    "    \"\"\" Computes the schwarzchild metric in cartesian like coordinates\"\"\"\n",
    "    bs,d = x.shape\n",
    "    r = (x[:,1:]**2).sum(-1).sqrt()\n",
    "    rhat = x[:,1:]/r[:,None]\n",
    "    rs = 2*M\n",
    "    a = (1-rs/r)[:,None]\n",
    "    g00 = -a\n",
    "    g0i = torch.zeros_like(x[:,1:])\n",
    "    # I +(1/a -1)rrT\n",
    "    gij = torch.eye(3,dtype=x.dtype)+rhat[:,:,None]*rhat[:,None,:]*(1/a[...,None]-1)\n",
    "    g0μ = torch.cat([g00,g0i],dim=1)\n",
    "    giμ = torch.cat([g0i[:,None,:],gij],dim=1)\n",
    "    g = torch.cat([g0μ[:,:,None],giμ],dim=2)\n",
    "    sqrt_det_g = torch.ones_like(x[:,0]) #\\sqrt{1-a}\n",
    "    ginv00 = -torch.ones_like(x[:,:1])/a\n",
    "    # I + (a-1)rrT\n",
    "    ginvij = torch.eye(3,dtype=x.dtype) +rhat[:,:,None]*rhat[:,None,:]*(a[...,None]-1)\n",
    "    ginv0μ = torch.cat([ginv00,g0i],dim=1)\n",
    "    ginviμ = torch.cat([g0i[:,None,:],ginvij],dim=1)\n",
    "    ginv = torch.cat([ginv0μ[:,:,None],ginviμ],dim=2)\n",
    "    return g,ginv,sqrt_det_g"
   ]
  },
  {
   "cell_type": "code",
   "execution_count": 63,
   "metadata": {},
   "outputs": [],
   "source": [
    "x = torch.rand(10,4)+.2"
   ]
  },
  {
   "cell_type": "code",
   "execution_count": 64,
   "metadata": {},
   "outputs": [],
   "source": [
    "g,ginv,sqrt_det_g = schwarzchild_metric(x)"
   ]
  },
  {
   "cell_type": "code",
   "execution_count": 65,
   "metadata": {},
   "outputs": [
    {
     "data": {
      "text/plain": [
       "tensor([[[ 0.5902,  0.0000,  0.0000,  0.0000],\n",
       "         [ 0.0000,  0.0226, -0.5957, -1.1503],\n",
       "         [ 0.0000, -0.5957,  0.6370, -0.7010],\n",
       "         [ 0.0000, -1.1503, -0.7010, -0.3537]],\n",
       "\n",
       "        [[ 0.7019,  0.0000,  0.0000,  0.0000],\n",
       "         [ 0.0000, -1.0687, -0.7327, -0.4467],\n",
       "         [ 0.0000, -0.7327,  0.7405, -0.1582],\n",
       "         [ 0.0000, -0.4467, -0.1582,  0.9036]],\n",
       "\n",
       "        [[ 0.6442,  0.0000,  0.0000,  0.0000],\n",
       "         [ 0.0000, -1.0361, -0.9321, -0.4271],\n",
       "         [ 0.0000, -0.9321,  0.5733, -0.1955],\n",
       "         [ 0.0000, -0.4271, -0.1955,  0.9104]],\n",
       "\n",
       "        [[ 0.9838,  0.0000,  0.0000,  0.0000],\n",
       "         [ 0.0000, -0.2740, -0.8895, -0.3933],\n",
       "         [ 0.0000, -0.8895,  0.3789, -0.2746],\n",
       "         [ 0.0000, -0.3933, -0.2746,  0.8786]],\n",
       "\n",
       "        [[ 0.3672,  0.0000,  0.0000,  0.0000],\n",
       "         [ 0.0000,  0.0217, -1.3155, -0.9771],\n",
       "         [ 0.0000, -1.3155, -0.7689, -1.3139],\n",
       "         [ 0.0000, -0.9771, -1.3139,  0.0240]],\n",
       "\n",
       "        [[ 0.3879,  0.0000,  0.0000,  0.0000],\n",
       "         [ 0.0000, -1.4384, -0.5673, -1.5674],\n",
       "         [ 0.0000, -0.5673,  0.8680, -0.3647],\n",
       "         [ 0.0000, -1.5674, -0.3647, -0.0076]],\n",
       "\n",
       "        [[ 0.2503,  0.0000,  0.0000,  0.0000],\n",
       "         [ 0.0000, -0.9194, -1.7648, -1.6701],\n",
       "         [ 0.0000, -1.7648, -0.6227, -1.5356],\n",
       "         [ 0.0000, -1.6701, -1.5356, -0.4532]],\n",
       "\n",
       "        [[ 0.7952,  0.0000,  0.0000,  0.0000],\n",
       "         [ 0.0000,  0.9090, -0.3617, -0.2577],\n",
       "         [ 0.0000, -0.3617, -0.4371, -1.0239],\n",
       "         [ 0.0000, -0.2577, -1.0239,  0.2705]],\n",
       "\n",
       "        [[ 0.3595,  0.0000,  0.0000,  0.0000],\n",
       "         [ 0.0000, -0.0782, -1.4935, -0.8272],\n",
       "         [ 0.0000, -1.4935, -1.0687, -1.1458],\n",
       "         [ 0.0000, -0.8272, -1.1458,  0.3653]],\n",
       "\n",
       "        [[ 1.2010,  0.0000,  0.0000,  0.0000],\n",
       "         [ 0.0000,  0.4077, -0.6116, -0.6005],\n",
       "         [ 0.0000, -0.6116,  0.3685, -0.6201],\n",
       "         [ 0.0000, -0.6005, -0.6201,  0.3911]]])"
      ]
     },
     "execution_count": 65,
     "metadata": {},
     "output_type": "execute_result"
    }
   ],
   "source": [
    "g"
   ]
  },
  {
   "cell_type": "code",
   "execution_count": 66,
   "metadata": {},
   "outputs": [
    {
     "data": {
      "text/plain": [
       "tensor([-1.0000, -1.0000, -1.0000, -1.0000, -1.0000, -1.0000, -1.0000, -1.0000,\n",
       "        -1.0000, -1.0000])"
      ]
     },
     "execution_count": 66,
     "metadata": {},
     "output_type": "execute_result"
    }
   ],
   "source": [
    "torch.det(g)"
   ]
  },
  {
   "cell_type": "code",
   "execution_count": 55,
   "metadata": {},
   "outputs": [
    {
     "data": {
      "text/plain": [
       "tensor([[1.1689, 1.1689, 1.1689, 1.1689, 1.1689, 1.1689, 1.1689, 1.1689, 1.1689,\n",
       "         1.1689],\n",
       "        [1.1247, 1.1247, 1.1247, 1.1247, 1.1247, 1.1247, 1.1247, 1.1247, 1.1247,\n",
       "         1.1247],\n",
       "        [1.1839, 1.1839, 1.1839, 1.1839, 1.1839, 1.1839, 1.1839, 1.1839, 1.1839,\n",
       "         1.1839],\n",
       "        [1.0557, 1.0557, 1.0557, 1.0557, 1.0557, 1.0557, 1.0557, 1.0557, 1.0557,\n",
       "         1.0557],\n",
       "        [1.3544, 1.3544, 1.3544, 1.3544, 1.3544, 1.3544, 1.3544, 1.3544, 1.3544,\n",
       "         1.3544],\n",
       "        [1.1401, 1.1401, 1.1401, 1.1401, 1.1401, 1.1401, 1.1401, 1.1401, 1.1401,\n",
       "         1.1401],\n",
       "        [1.1413, 1.1413, 1.1413, 1.1413, 1.1413, 1.1413, 1.1413, 1.1413, 1.1413,\n",
       "         1.1413],\n",
       "        [1.1470, 1.1470, 1.1470, 1.1470, 1.1470, 1.1470, 1.1470, 1.1470, 1.1470,\n",
       "         1.1470],\n",
       "        [1.3711, 1.3711, 1.3711, 1.3711, 1.3711, 1.3711, 1.3711, 1.3711, 1.3711,\n",
       "         1.3711],\n",
       "        [1.1833, 1.1833, 1.1833, 1.1833, 1.1833, 1.1833, 1.1833, 1.1833, 1.1833,\n",
       "         1.1833]])"
      ]
     },
     "execution_count": 55,
     "metadata": {},
     "output_type": "execute_result"
    }
   ],
   "source": [
    "sqrt_det_g"
   ]
  },
  {
   "cell_type": "code",
   "execution_count": 71,
   "metadata": {},
   "outputs": [
    {
     "data": {
      "text/plain": [
       "tensor([3.])"
      ]
     },
     "execution_count": 71,
     "metadata": {},
     "output_type": "execute_result"
    }
   ],
   "source": [
    "torch.max(torch.tensor([3.]),torch.tensor([2.]))"
   ]
  },
  {
   "cell_type": "code",
   "execution_count": 1,
   "metadata": {},
   "outputs": [],
   "source": [
    "import torch\n",
    "from pdes import EinsteinPDE, gMLP\n",
    "import matplotlib.pyplot as plt\n",
    "import numpy as np"
   ]
  },
  {
   "cell_type": "code",
   "execution_count": 2,
   "metadata": {},
   "outputs": [],
   "source": [
    "model = gMLP(L=3,k=512).cuda()\n",
    "#model = Expression(lambda x: x[...,0]*(1-x[...,0])*x[...,1]*(1-x[...,1])*base_model(x))\n",
    "opt = lambda params: torch.optim.AdamW(params,lr=1e-4,weight_decay=1e-4)#torch.optim.SGD(params,lr=1e-2,nesterov=True,momentum=.9)#torch.optim.Adam(params,lr=1e-4)\n",
    "pde = EinsteinPDE(model,opt,bs=100)#,lr_sched=lambda e: 1/(1+e/20))"
   ]
  },
  {
   "cell_type": "code",
   "execution_count": 3,
   "metadata": {},
   "outputs": [
    {
     "data": {
      "application/vnd.jupyter.widget-view+json": {
       "model_id": "0f48dc6749a34ae683475691738efe16",
       "version_major": 2,
       "version_minor": 0
      },
      "text/plain": [
       "HBox(children=(FloatProgress(value=0.0, description='fitting pde', max=10000.0, style=ProgressStyle(descriptio…"
      ]
     },
     "metadata": {},
     "output_type": "display_data"
    },
    {
     "name": "stdout",
     "output_type": "stream",
     "text": [
      "\r",
      "        loss\n",
      "0  4881604.5\n"
     ]
    },
    {
     "ename": "KeyboardInterrupt",
     "evalue": "",
     "output_type": "error",
     "traceback": [
      "\u001b[0;31m---------------------------------------------------------------------------\u001b[0m",
      "\u001b[0;31mKeyboardInterrupt\u001b[0m                         Traceback (most recent call last)",
      "\u001b[0;32m<ipython-input-3-839afcfbc1b7>\u001b[0m in \u001b[0;36m<module>\u001b[0;34m\u001b[0m\n\u001b[0;32m----> 1\u001b[0;31m \u001b[0mpde\u001b[0m\u001b[0;34m.\u001b[0m\u001b[0msolve\u001b[0m\u001b[0;34m(\u001b[0m\u001b[0;36m1000\u001b[0m\u001b[0;34m*\u001b[0m\u001b[0;36m10\u001b[0m\u001b[0;34m)\u001b[0m\u001b[0;34m\u001b[0m\u001b[0;34m\u001b[0m\u001b[0m\n\u001b[0m",
      "\u001b[0;32m~/tetradic-delights/pdes/einstein.py\u001b[0m in \u001b[0;36msolve\u001b[0;34m(self, iterations)\u001b[0m\n\u001b[1;32m    141\u001b[0m             \u001b[0mself\u001b[0m\u001b[0;34m.\u001b[0m\u001b[0moptimizer\u001b[0m\u001b[0;34m.\u001b[0m\u001b[0mzero_grad\u001b[0m\u001b[0;34m(\u001b[0m\u001b[0;34m)\u001b[0m\u001b[0;34m\u001b[0m\u001b[0;34m\u001b[0m\u001b[0m\n\u001b[1;32m    142\u001b[0m             \u001b[0mloss\u001b[0m \u001b[0;34m=\u001b[0m \u001b[0mself\u001b[0m\u001b[0;34m.\u001b[0m\u001b[0maction\u001b[0m\u001b[0;34m(\u001b[0m\u001b[0mX_samples\u001b[0m\u001b[0;34m)\u001b[0m\u001b[0;31m#,dX_samples,iX_samples)\u001b[0m\u001b[0;34m\u001b[0m\u001b[0;34m\u001b[0m\u001b[0m\n\u001b[0;32m--> 143\u001b[0;31m             \u001b[0mloss\u001b[0m\u001b[0;34m.\u001b[0m\u001b[0mbackward\u001b[0m\u001b[0;34m(\u001b[0m\u001b[0;34m)\u001b[0m\u001b[0;34m\u001b[0m\u001b[0;34m\u001b[0m\u001b[0m\n\u001b[0m\u001b[1;32m    144\u001b[0m             \u001b[0mself\u001b[0m\u001b[0;34m.\u001b[0m\u001b[0moptimizer\u001b[0m\u001b[0;34m.\u001b[0m\u001b[0mstep\u001b[0m\u001b[0;34m(\u001b[0m\u001b[0;34m)\u001b[0m\u001b[0;34m\u001b[0m\u001b[0;34m\u001b[0m\u001b[0m\n\u001b[1;32m    145\u001b[0m             \u001b[0;32mwith\u001b[0m \u001b[0mself\u001b[0m\u001b[0;34m.\u001b[0m\u001b[0mlogger\u001b[0m \u001b[0;32mas\u001b[0m \u001b[0mdo_log\u001b[0m\u001b[0;34m:\u001b[0m\u001b[0;34m\u001b[0m\u001b[0;34m\u001b[0m\u001b[0m\n",
      "\u001b[0;32m~/anaconda3/envs/default/lib/python3.7/site-packages/torch/tensor.py\u001b[0m in \u001b[0;36mbackward\u001b[0;34m(self, gradient, retain_graph, create_graph)\u001b[0m\n\u001b[1;32m    196\u001b[0m                 \u001b[0mproducts\u001b[0m\u001b[0;34m.\u001b[0m \u001b[0mDefaults\u001b[0m \u001b[0mto\u001b[0m\u001b[0;31m \u001b[0m\u001b[0;31m`\u001b[0m\u001b[0;31m`\u001b[0m\u001b[0;32mFalse\u001b[0m\u001b[0;31m`\u001b[0m\u001b[0;31m`\u001b[0m\u001b[0;34m.\u001b[0m\u001b[0;34m\u001b[0m\u001b[0;34m\u001b[0m\u001b[0m\n\u001b[1;32m    197\u001b[0m         \"\"\"\n\u001b[0;32m--> 198\u001b[0;31m         \u001b[0mtorch\u001b[0m\u001b[0;34m.\u001b[0m\u001b[0mautograd\u001b[0m\u001b[0;34m.\u001b[0m\u001b[0mbackward\u001b[0m\u001b[0;34m(\u001b[0m\u001b[0mself\u001b[0m\u001b[0;34m,\u001b[0m \u001b[0mgradient\u001b[0m\u001b[0;34m,\u001b[0m \u001b[0mretain_graph\u001b[0m\u001b[0;34m,\u001b[0m \u001b[0mcreate_graph\u001b[0m\u001b[0;34m)\u001b[0m\u001b[0;34m\u001b[0m\u001b[0;34m\u001b[0m\u001b[0m\n\u001b[0m\u001b[1;32m    199\u001b[0m \u001b[0;34m\u001b[0m\u001b[0m\n\u001b[1;32m    200\u001b[0m     \u001b[0;32mdef\u001b[0m \u001b[0mregister_hook\u001b[0m\u001b[0;34m(\u001b[0m\u001b[0mself\u001b[0m\u001b[0;34m,\u001b[0m \u001b[0mhook\u001b[0m\u001b[0;34m)\u001b[0m\u001b[0;34m:\u001b[0m\u001b[0;34m\u001b[0m\u001b[0;34m\u001b[0m\u001b[0m\n",
      "\u001b[0;32m~/anaconda3/envs/default/lib/python3.7/site-packages/torch/autograd/__init__.py\u001b[0m in \u001b[0;36mbackward\u001b[0;34m(tensors, grad_tensors, retain_graph, create_graph, grad_variables)\u001b[0m\n\u001b[1;32m     98\u001b[0m     Variable._execution_engine.run_backward(\n\u001b[1;32m     99\u001b[0m         \u001b[0mtensors\u001b[0m\u001b[0;34m,\u001b[0m \u001b[0mgrad_tensors\u001b[0m\u001b[0;34m,\u001b[0m \u001b[0mretain_graph\u001b[0m\u001b[0;34m,\u001b[0m \u001b[0mcreate_graph\u001b[0m\u001b[0;34m,\u001b[0m\u001b[0;34m\u001b[0m\u001b[0;34m\u001b[0m\u001b[0m\n\u001b[0;32m--> 100\u001b[0;31m         allow_unreachable=True)  # allow_unreachable flag\n\u001b[0m\u001b[1;32m    101\u001b[0m \u001b[0;34m\u001b[0m\u001b[0m\n\u001b[1;32m    102\u001b[0m \u001b[0;34m\u001b[0m\u001b[0m\n",
      "\u001b[0;31mKeyboardInterrupt\u001b[0m: "
     ]
    }
   ],
   "source": [
    "pde.solve(1000*10)"
   ]
  },
  {
   "cell_type": "code",
   "execution_count": 4,
   "metadata": {},
   "outputs": [
    {
     "name": "stdout",
     "output_type": "stream",
     "text": [
      "\n"
     ]
    },
    {
     "data": {
      "text/plain": [
       "Text(0.5, 0, 'r')"
      ]
     },
     "execution_count": 4,
     "metadata": {},
     "output_type": "execute_result"
    },
    {
     "data": {
      "image/png": "[encoded data removed]",
      "text/plain": [
       "<Figure size 432x288 with 1 Axes>"
      ]
     },
     "metadata": {
      "needs_background": "light"
     },
     "output_type": "display_data"
    }
   ],
   "source": [
    "x = pde.sample_domain(50)\n",
    "g = model(x)\n",
    "gtt = g[:,0,0].cpu().data\n",
    "r = (x[:,1:]**2).sum(-1).sqrt().cpu().data\n",
    "plt.scatter(r,gtt)\n",
    "r_perm = np.argsort(r.numpy())\n",
    "plt.plot(r[r_perm],1/r[r_perm]-1,color='r')\n",
    "plt.xlim(0,20)\n",
    "plt.ylabel(r\"$g_{00}$\")\n",
    "plt.xlabel(\"r\")"
   ]
  },
  {
   "cell_type": "code",
   "execution_count": null,
   "metadata": {},
   "outputs": [],
   "source": []
  },
  {
   "cell_type": "code",
   "execution_count": 5,
   "metadata": {},
   "outputs": [
    {
     "data": {
      "text/plain": [
       "<matplotlib.legend.Legend at 0x7fec3b3b21d0>"
      ]
     },
     "execution_count": 5,
     "metadata": {},
     "output_type": "execute_result"
    },
    {
     "data": {
      "image/png": "[encoded data removed]",
      "text/plain": [
       "<Figure size 432x288 with 1 Axes>"
      ]
     },
     "metadata": {
      "needs_background": "light"
     },
     "output_type": "display_data"
    }
   ],
   "source": [
    "from pdes import ricci_curvature,scalar_curvature\n",
    "ginv = torch.inverse(g)\n",
    "Rab = ricci_curvature(model,x)\n",
    "R = scalar_curvature(model,x)\n",
    "R2 = (ginv*Rab).sum(-1).sum(-1)\n",
    "plt.plot(r[r_perm],R[r_perm].cpu().data,label='R')\n",
    "plt.plot(r[r_perm],R2[r_perm].cpu().data,label=r'$g^{ab}R_{ab}$')\n",
    "plt.xlim(0,20)\n",
    "plt.ylabel(r\"$R$\")\n",
    "plt.xlabel(\"r\")\n",
    "plt.legend()"
   ]
  },
  {
   "cell_type": "code",
   "execution_count": 6,
   "metadata": {},
   "outputs": [
    {
     "data": {
      "text/plain": [
       "<matplotlib.collections.PathCollection at 0x7fea28a88510>"
      ]
     },
     "execution_count": 6,
     "metadata": {},
     "output_type": "execute_result"
    },
    {
     "data": {
      "image/png": "[encoded data removed]",
      "text/plain": [
       "<Figure size 432x288 with 1 Axes>"
      ]
     },
     "metadata": {
      "needs_background": "light"
     },
     "output_type": "display_data"
    }
   ],
   "source": [
    "import seaborn as sns\n",
    "x = pde.sample_domain(100)\n",
    "r = (x[:,1:]**2).sum(-1).sqrt().cpu().data\n",
    "sns.distplot(r)\n",
    "plt.scatter(r,pde.importance_dist.density(x).cpu().data*r*r)\n",
    "#plt.xlim(0,20)"
   ]
  },
  {
   "cell_type": "code",
   "execution_count": 7,
   "metadata": {},
   "outputs": [
    {
     "data": {
      "text/plain": [
       "Text(0.5, 0, 'r/rs')"
      ]
     },
     "execution_count": 7,
     "metadata": {},
     "output_type": "execute_result"
    },
    {
     "data": {
      "image/png": "[encoded data removed]",
      "text/plain": [
       "<Figure size 432x288 with 1 Axes>"
      ]
     },
     "metadata": {
      "needs_background": "light"
     },
     "output_type": "display_data"
    }
   ],
   "source": [
    "from functools import partial\n",
    "from pdes import scalar_curvature,schwarzchild_metric\n",
    "plt.scatter(r,scalar_curvature(partial(schwarzchild_metric,M=1/2),x).cpu().data)\n",
    "#plt.xlim(0,20)\n",
    "plt.ylabel(r\"Scalar Curvature R\")\n",
    "plt.xlabel(\"r/rs\")\n",
    "#plt.axvline(2,color='r')"
   ]
  },
  {
   "cell_type": "code",
   "execution_count": 8,
   "metadata": {},
   "outputs": [],
   "source": [
    "import scipy as sp\n",
    "def cubic_interp(x0,xf,tt):\n",
    "    t = torch.clamp(tt,min=0,max=1)\n",
    "    return x0*(1-t)**3 + 3*(1-t)**2*t*x0+3*(1-t)*t**2*xf+xf*t**3\n",
    "def bezier_interp(x0,xf,tt,n=5):\n",
    "    t = torch.clamp(tt,min=0,max=1)\n",
    "    ck = [sp.special.binom(n,k)*t**k*(1-t)**(n-k) for k in range(n+1)]\n",
    "    return sum([ck[k]*x0 if k<n/2 else ck[k]*xf for k in range(n+1)])"
   ]
  },
  {
   "cell_type": "code",
   "execution_count": 8,
   "metadata": {},
   "outputs": [
    {
     "ename": "NameError",
     "evalue": "name 'bezier_interp' is not defined",
     "output_type": "error",
     "traceback": [
      "\u001b[0;31m---------------------------------------------------------------------------\u001b[0m",
      "\u001b[0;31mNameError\u001b[0m                                 Traceback (most recent call last)",
      "\u001b[0;32m<ipython-input-8-05af5c1ca043>\u001b[0m in \u001b[0;36m<module>\u001b[0;34m\u001b[0m\n\u001b[1;32m      5\u001b[0m \u001b[0mrs\u001b[0m\u001b[0;34m=\u001b[0m\u001b[0;36m1\u001b[0m\u001b[0;34m\u001b[0m\u001b[0;34m\u001b[0m\u001b[0m\n\u001b[1;32m      6\u001b[0m \u001b[0mrr\u001b[0m \u001b[0;34m=\u001b[0m \u001b[0mtorch\u001b[0m\u001b[0;34m.\u001b[0m\u001b[0mlinspace\u001b[0m\u001b[0;34m(\u001b[0m\u001b[0;36m0\u001b[0m\u001b[0;34m,\u001b[0m\u001b[0;36m20\u001b[0m\u001b[0;34m,\u001b[0m\u001b[0;36m100\u001b[0m\u001b[0;34m)\u001b[0m\u001b[0;34m\u001b[0m\u001b[0;34m\u001b[0m\u001b[0m\n\u001b[0;32m----> 7\u001b[0;31m \u001b[0mblend_near\u001b[0m \u001b[0;34m=\u001b[0m \u001b[0mbezier_interp\u001b[0m\u001b[0;34m(\u001b[0m\u001b[0;36m0\u001b[0m\u001b[0;34m,\u001b[0m\u001b[0;36m1\u001b[0m\u001b[0;34m,\u001b[0m\u001b[0;34m(\u001b[0m\u001b[0mrr\u001b[0m\u001b[0;34m/\u001b[0m\u001b[0mrs\u001b[0m\u001b[0;34m-\u001b[0m\u001b[0;36m1\u001b[0m\u001b[0;34m)\u001b[0m\u001b[0;34m/\u001b[0m\u001b[0;34m(\u001b[0m\u001b[0;36m2\u001b[0m\u001b[0;34m-\u001b[0m\u001b[0;36m1\u001b[0m\u001b[0;34m)\u001b[0m\u001b[0;34m)\u001b[0m\u001b[0;34m\u001b[0m\u001b[0;34m\u001b[0m\u001b[0m\n\u001b[0m\u001b[1;32m      8\u001b[0m \u001b[0mblend_far\u001b[0m \u001b[0;34m=\u001b[0m \u001b[0;36m1\u001b[0m\u001b[0;34m-\u001b[0m\u001b[0mbezier_interp\u001b[0m\u001b[0;34m(\u001b[0m\u001b[0;36m0\u001b[0m\u001b[0;34m,\u001b[0m\u001b[0;36m1\u001b[0m\u001b[0;34m,\u001b[0m\u001b[0;34m(\u001b[0m\u001b[0mrr\u001b[0m\u001b[0;34m/\u001b[0m\u001b[0mrs\u001b[0m\u001b[0;34m-\u001b[0m\u001b[0;36m15\u001b[0m\u001b[0;34m)\u001b[0m\u001b[0;34m/\u001b[0m\u001b[0;34m(\u001b[0m\u001b[0;36m20\u001b[0m\u001b[0;34m-\u001b[0m\u001b[0;36m15\u001b[0m\u001b[0;34m)\u001b[0m\u001b[0;34m)\u001b[0m\u001b[0;34m\u001b[0m\u001b[0;34m\u001b[0m\u001b[0m\n\u001b[1;32m      9\u001b[0m \u001b[0mblend\u001b[0m \u001b[0;34m=\u001b[0m \u001b[0;34m(\u001b[0m\u001b[0mblend_near\u001b[0m\u001b[0;34m*\u001b[0m\u001b[0mblend_far\u001b[0m\u001b[0;34m)\u001b[0m\u001b[0;34m\u001b[0m\u001b[0;34m\u001b[0m\u001b[0m\n",
      "\u001b[0;31mNameError\u001b[0m: name 'bezier_interp' is not defined"
     ]
    },
    {
     "data": {
      "image/png": "[encoded data removed]",
      "text/plain": [
       "<Figure size 432x288 with 1 Axes>"
      ]
     },
     "metadata": {
      "needs_background": "light"
     },
     "output_type": "display_data"
    }
   ],
   "source": [
    "plt.scatter(r,scalar_curvature(model,x).cpu().data)\n",
    "plt.xlim(0,20)\n",
    "plt.ylabel(r\"Scalar Curvate R\")\n",
    "plt.xlabel(\"r\")\n",
    "rs=1\n",
    "rr = torch.linspace(0,20,100)\n",
    "blend_near = bezier_interp(0,1,(rr/rs-1)/(2-1))\n",
    "blend_far = 1-bezier_interp(0,1,(rr/rs-15)/(20-15))\n",
    "blend = (blend_near*blend_far)\n",
    "import matplotlib.pyplot as plt\n",
    "plt.plot(rr/rs,blend)\n",
    "plt.ylim(-1,1)\n",
    "#plt.ylabel(r\"$\\alpha(r)$\")\n",
    "#plt.xlabel(\"r/rs\")\n",
    "plt.axvline(rs,color='r')\n",
    "plt.show()"
   ]
  },
  {
   "cell_type": "code",
   "execution_count": 9,
   "metadata": {},
   "outputs": [
    {
     "data": {
      "image/png": "[encoded data removed]",
      "text/plain": [
       "<Figure size 432x288 with 1 Axes>"
      ]
     },
     "metadata": {
      "needs_background": "light"
     },
     "output_type": "display_data"
    }
   ],
   "source": [
    "from pdes import ricci_curvature\n",
    "x = pde.sample_domain(100)\n",
    "r = (x[:,1:]**2).sum(-1).sqrt().cpu().data\n",
    "Rab = ricci_curvature(model.cpu(),x.cpu()).cpu().data\n",
    "plt.scatter(r,(Rab**2).mean(-1).mean(-1))\n",
    "plt.xlim(0,20)\n",
    "plt.ylabel(r\"Rab diff\")\n",
    "plt.xlabel(\"r\")\n",
    "rs=1\n",
    "rr = torch.linspace(0,20,100)\n",
    "blend_near = bezier_interp(0,1,(rr/rs-1)/(2-1))\n",
    "blend_far = 1-bezier_interp(0,1,(rr/rs-15)/(20-15))\n",
    "blend = (blend_near*blend_far)\n",
    "import matplotlib.pyplot as plt\n",
    "plt.plot(rr/rs,blend)\n",
    "plt.ylim(-1,1)\n",
    "#plt.ylabel(r\"$\\alpha(r)$\")\n",
    "#plt.xlabel(\"r/rs\")\n",
    "plt.axvline(rs,color='r')\n",
    "plt.show()"
   ]
  },
  {
   "cell_type": "code",
   "execution_count": 10,
   "metadata": {},
   "outputs": [
    {
     "data": {
      "image/png": "[encoded data removed]",
      "text/plain": [
       "<Figure size 432x288 with 1 Axes>"
      ]
     },
     "metadata": {
      "needs_background": "light"
     },
     "output_type": "display_data"
    }
   ],
   "source": [
    "x = pde.sample_domain(100)\n",
    "r = (x[:,1:]**2).sum(-1).sqrt().cpu().data\n",
    "Rab = ricci_curvature(partial(schwarzchild_metric,M=1/2),x.cpu()).cpu().data\n",
    "plt.scatter(r,(Rab**2).mean(-1).mean(-1))\n",
    "plt.xlim(0,20)\n",
    "plt.ylabel(r\"Rab diff\")\n",
    "plt.xlabel(\"r\")\n",
    "rs=1\n",
    "rr = torch.linspace(0,20,100)\n",
    "import matplotlib.pyplot as plt\n",
    "plt.ylim(-1,1)\n",
    "#plt.ylabel(r\"$\\alpha(r)$\")\n",
    "#plt.xlabel(\"r/rs\")\n",
    "plt.axvline(rs,color='r')\n",
    "plt.show()"
   ]
  },
  {
   "cell_type": "code",
   "execution_count": 40,
   "metadata": {},
   "outputs": [
    {
     "data": {
      "image/png": "[encoded data removed]",
      "text/plain": [
       "<Figure size 432x288 with 1 Axes>"
      ]
     },
     "metadata": {
      "needs_background": "light"
     },
     "output_type": "display_data"
    }
   ],
   "source": [
    "rs=1\n",
    "r = torch.linspace(0,20,100)\n",
    "#blend_near = torch.clamp((r-rs)/(2*rs-rs),min=0,max=1)\n",
    "# Linear transition from g to gs from 15rs to 20rs\n",
    "#blend_far = 1-torch.clamp((r-15*rs)/(20*rs-15*rs),min=0,max=1)\n",
    "blend_near = cubic_interp(0,1,(r/rs-1.5)/(4.5-1.5))\n",
    "blend_far = 1-cubic_interp(0,1,(r/rs-15)/(20-15))\n",
    "blend = (blend_near*blend_far)\n",
    "import matplotlib.pyplot as plt\n",
    "plt.plot(r/rs,blend)\n",
    "\n",
    "plt.ylabel(r\"$\\alpha(r)$\")\n",
    "plt.xlabel(\"r/rs\")\n",
    "plt.show()"
   ]
  },
  {
   "cell_type": "code",
   "execution_count": 6,
   "metadata": {},
   "outputs": [
    {
     "data": {
      "text/plain": [
       "tensor([-1.0000, -0.7980, -0.5960, -0.3939, -0.1919,  0.0101,  0.2121,  0.4141,\n",
       "         0.6162,  0.8182,  1.0000,  1.0000,  1.0000,  1.0000,  1.0000,  1.0000,\n",
       "         1.0000,  1.0000,  1.0000,  1.0000,  1.0000,  1.0000,  1.0000,  1.0000,\n",
       "         1.0000,  1.0000,  1.0000,  1.0000,  1.0000,  1.0000,  1.0000,  1.0000,\n",
       "         1.0000,  1.0000,  1.0000,  1.0000,  1.0000,  1.0000,  1.0000,  1.0000,\n",
       "         1.0000,  1.0000,  1.0000,  1.0000,  1.0000,  1.0000,  1.0000,  1.0000,\n",
       "         1.0000,  1.0000,  1.0000,  1.0000,  1.0000,  1.0000,  1.0000,  1.0000,\n",
       "         1.0000,  1.0000,  1.0000,  1.0000,  1.0000,  1.0000,  1.0000,  1.0000,\n",
       "         1.0000,  1.0000,  1.0000,  1.0000,  1.0000,  1.0000,  1.0000,  1.0000,\n",
       "         1.0000,  1.0000,  1.0000,  1.0000,  1.0000,  1.0000,  1.0000,  1.0000,\n",
       "         1.0000,  1.0000,  1.0000,  1.0000,  1.0000,  1.0000,  1.0000,  1.0000,\n",
       "         1.0000,  1.0000,  1.0000,  1.0000,  1.0000,  1.0000,  1.0000,  1.0000,\n",
       "         1.0000,  1.0000,  1.0000,  1.0000])"
      ]
     },
     "execution_count": 6,
     "metadata": {},
     "output_type": "execute_result"
    }
   ],
   "source": [
    "blend_near"
   ]
  },
  {
   "cell_type": "code",
   "execution_count": 7,
   "metadata": {},
   "outputs": [
    {
     "data": {
      "text/plain": [
       "tensor([4.0000, 3.9596, 3.9192, 3.8788, 3.8384, 3.7980, 3.7576, 3.7172, 3.6768,\n",
       "        3.6364, 3.5960, 3.5556, 3.5152, 3.4747, 3.4343, 3.3939, 3.3535, 3.3131,\n",
       "        3.2727, 3.2323, 3.1919, 3.1515, 3.1111, 3.0707, 3.0303, 2.9899, 2.9495,\n",
       "        2.9091, 2.8687, 2.8283, 2.7879, 2.7475, 2.7071, 2.6667, 2.6263, 2.5859,\n",
       "        2.5455, 2.5051, 2.4646, 2.4242, 2.3838, 2.3434, 2.3030, 2.2626, 2.2222,\n",
       "        2.1818, 2.1414, 2.1010, 2.0606, 2.0202, 1.9798, 1.9394, 1.8990, 1.8586,\n",
       "        1.8182, 1.7778, 1.7374, 1.6970, 1.6566, 1.6162, 1.5758, 1.5354, 1.4949,\n",
       "        1.4545, 1.4141, 1.3737, 1.3333, 1.2929, 1.2525, 1.2121, 1.1717, 1.1313,\n",
       "        1.0909, 1.0505, 1.0101, 0.9697, 0.9293, 0.8889, 0.8485, 0.8081, 0.7677,\n",
       "        0.7273, 0.6869, 0.6465, 0.6061, 0.5657, 0.5253, 0.4848, 0.4444, 0.4040,\n",
       "        0.3636, 0.3232, 0.2828, 0.2424, 0.2020, 0.1616, 0.1212, 0.0808, 0.0404,\n",
       "        0.0000])"
      ]
     },
     "execution_count": 7,
     "metadata": {},
     "output_type": "execute_result"
    }
   ],
   "source": [
    "blend_far"
   ]
  },
  {
   "cell_type": "code",
   "execution_count": 8,
   "metadata": {},
   "outputs": [
    {
     "data": {
      "text/plain": [
       "tensor([-3.0000, -2.9596, -2.9192, -2.8788, -2.8384, -2.7980, -2.7576, -2.7172,\n",
       "        -2.6768, -2.6364, -2.5960, -2.5556, -2.5152, -2.4747, -2.4343, -2.3939,\n",
       "        -2.3535, -2.3131, -2.2727, -2.2323, -2.1919, -2.1515, -2.1111, -2.0707,\n",
       "        -2.0303, -1.9899, -1.9495, -1.9091, -1.8687, -1.8283, -1.7879, -1.7475,\n",
       "        -1.7071, -1.6667, -1.6263, -1.5859, -1.5455, -1.5051, -1.4646, -1.4242,\n",
       "        -1.3838, -1.3434, -1.3030, -1.2626, -1.2222, -1.1818, -1.1414, -1.1010,\n",
       "        -1.0606, -1.0202, -0.9798, -0.9394, -0.8990, -0.8586, -0.8182, -0.7778,\n",
       "        -0.7374, -0.6970, -0.6566, -0.6162, -0.5758, -0.5354, -0.4949, -0.4545,\n",
       "        -0.4141, -0.3737, -0.3333, -0.2929, -0.2525, -0.2121, -0.1717, -0.1313,\n",
       "        -0.0909, -0.0505, -0.0101,  0.0303,  0.0707,  0.1111,  0.1515,  0.1919,\n",
       "         0.2323,  0.2727,  0.3131,  0.3535,  0.3939,  0.4343,  0.4747,  0.5152,\n",
       "         0.5556,  0.5960,  0.6364,  0.6768,  0.7172,  0.7576,  0.7980,  0.8384,\n",
       "         0.8788,  0.9192,  0.9596,  1.0000])"
      ]
     },
     "execution_count": 8,
     "metadata": {},
     "output_type": "execute_result"
    }
   ],
   "source": [
    "torch.clamp((r-15*rs)/(20*rs-15*rs),max=1)"
   ]
  },
  {
   "cell_type": "markdown",
   "metadata": {},
   "source": [
    "## Verify R and Rab are computed correctly"
   ]
  },
  {
   "cell_type": "code",
   "execution_count": 1,
   "metadata": {},
   "outputs": [],
   "source": [
    "import torch\n",
    "from pdes import spherical_schwarzchild_metric,scalar_curvature,ricci_curvature"
   ]
  },
  {
   "cell_type": "code",
   "execution_count": 2,
   "metadata": {},
   "outputs": [
    {
     "name": "stdout",
     "output_type": "stream",
     "text": [
      "35\n",
      "torch.Size([35840, 4, 4])\n",
      "torch.Size([2240, 4, 4])\n",
      "Γ bs 2240\n",
      "torch.Size([560, 4, 4])\n",
      "torch.Size([35, 4, 4])\n",
      "Γ bs 35\n",
      "torch.Size([35840, 4, 4])\n",
      "torch.Size([2240, 4, 4])\n",
      "Γ bs 2240\n",
      "torch.Size([560, 4, 4])\n",
      "torch.Size([35, 4, 4])\n",
      "Γ bs 35\n",
      "torch.Size([35840, 4, 4])\n",
      "torch.Size([2240, 4, 4])\n",
      "Γ bs 2240\n",
      "torch.Size([560, 4, 4])\n",
      "torch.Size([35, 4, 4])\n",
      "Γ bs 35\n",
      "torch.Size([35840, 4, 4])\n",
      "torch.Size([2240, 4, 4])\n",
      "Γ bs 2240\n",
      "torch.Size([560, 4, 4])\n",
      "torch.Size([35, 4, 4])\n",
      "Γ bs 35\n",
      "torch.Size([35840, 4, 4])\n",
      "torch.Size([2240, 4, 4])\n",
      "Γ bs 2240\n",
      "torch.Size([560, 4, 4])\n",
      "torch.Size([35, 4, 4])\n",
      "Γ bs 35\n",
      "torch.Size([35840, 4, 4])\n",
      "torch.Size([2240, 4, 4])\n",
      "Γ bs 2240\n",
      "torch.Size([560, 4, 4])\n",
      "torch.Size([35, 4, 4])\n",
      "Γ bs 35\n",
      "torch.Size([35840, 4, 4])\n",
      "torch.Size([2240, 4, 4])\n",
      "Γ bs 2240\n",
      "torch.Size([560, 4, 4])\n",
      "torch.Size([35, 4, 4])\n",
      "Γ bs 35\n",
      "torch.Size([35840, 4, 4])\n",
      "torch.Size([2240, 4, 4])\n",
      "Γ bs 2240\n",
      "torch.Size([560, 4, 4])\n",
      "torch.Size([35, 4, 4])\n",
      "Γ bs 35\n",
      "torch.Size([35840, 4, 4])\n",
      "torch.Size([2240, 4, 4])\n",
      "Γ bs 2240\n",
      "torch.Size([560, 4, 4])\n",
      "torch.Size([35, 4, 4])\n",
      "Γ bs 35\n",
      "torch.Size([35840, 4, 4])\n",
      "torch.Size([2240, 4, 4])\n",
      "Γ bs 2240\n",
      "torch.Size([560, 4, 4])\n",
      "torch.Size([35, 4, 4])\n",
      "Γ bs 35\n",
      "torch.Size([35840, 4, 4])\n",
      "torch.Size([2240, 4, 4])\n",
      "Γ bs 2240\n",
      "torch.Size([560, 4, 4])\n",
      "torch.Size([35, 4, 4])\n",
      "Γ bs 35\n",
      "torch.Size([35840, 4, 4])\n",
      "torch.Size([2240, 4, 4])\n",
      "Γ bs 2240\n",
      "torch.Size([560, 4, 4])\n",
      "torch.Size([35, 4, 4])\n",
      "Γ bs 35\n",
      "torch.Size([35840, 4, 4])\n",
      "torch.Size([2240, 4, 4])\n",
      "Γ bs 2240\n",
      "torch.Size([560, 4, 4])\n",
      "torch.Size([35, 4, 4])\n",
      "Γ bs 35\n",
      "torch.Size([35840, 4, 4])\n",
      "torch.Size([2240, 4, 4])\n",
      "Γ bs 2240\n",
      "torch.Size([560, 4, 4])\n",
      "torch.Size([35, 4, 4])\n",
      "Γ bs 35\n",
      "torch.Size([35840, 4, 4])\n",
      "torch.Size([2240, 4, 4])\n",
      "Γ bs 2240\n",
      "torch.Size([560, 4, 4])\n",
      "torch.Size([35, 4, 4])\n",
      "Γ bs 35\n",
      "torch.Size([35840, 4, 4])\n",
      "torch.Size([2240, 4, 4])\n",
      "Γ bs 2240\n",
      "torch.Size([560, 4, 4])\n",
      "torch.Size([35, 4, 4])\n",
      "Γ bs 35\n"
     ]
    },
    {
     "data": {
      "text/plain": [
       "<Figure size 640x480 with 1 Axes>"
      ]
     },
     "metadata": {},
     "output_type": "display_data"
    }
   ],
   "source": [
    "from functools import partial\n",
    "import matplotlib.pyplot as plt\n",
    "x = 3*torch.randn(100,4).cpu()\n",
    "x=x[x[:,1]>1.5]\n",
    "r = x[:,1]\n",
    "print(x.shape[0])\n",
    "for i in range(16):\n",
    "    plt.scatter(r,ricci_curvature(partial(spherical_schwarzchild_metric,M=1/2),x).cpu().data[:,i//4,i%4])\n",
    "#plt.xlim(0,20)\n",
    "plt.ylabel(r\"Scalar Curvature R\")\n",
    "plt.xlabel(\"r/rs\")\n",
    "plt.ylim(-5,5)\n",
    "plt.show()"
   ]
  },
  {
   "cell_type": "code",
   "execution_count": 3,
   "metadata": {},
   "outputs": [
    {
     "name": "stdout",
     "output_type": "stream",
     "text": [
      "32\n",
      "torch.Size([512, 4, 4])\n",
      "torch.Size([32, 4, 4, 4])\n",
      "torch.Size([32, 4, 4])\n",
      "Γ bs 32\n",
      "torch.Size([2048, 4, 4])\n",
      "torch.Size([128, 4, 4])\n",
      "Γ bs 128\n",
      "torch.Size([32, 4, 4])\n"
     ]
    },
    {
     "data": {
      "image/png": "[encoded data removed]",
      "text/plain": [
       "<Figure size 432x288 with 1 Axes>"
      ]
     },
     "metadata": {
      "needs_background": "light"
     },
     "output_type": "display_data"
    }
   ],
   "source": [
    "from functools import partial\n",
    "import matplotlib.pyplot as plt\n",
    "x = 3*torch.randn(100,4).cpu()\n",
    "x=x[x[:,1]>1.5]\n",
    "r = x[:,1]\n",
    "print(x.shape[0])\n",
    "plt.scatter(r,scalar_curvature(partial(spherical_schwarzchild_metric,M=1/2),x).cpu().data)\n",
    "#plt.xlim(0,20)\n",
    "plt.ylabel(r\"Scalar Curvature R\")\n",
    "plt.xlabel(\"r/rs\")\n",
    "plt.ylim(-5,5)\n",
    "plt.show()"
   ]
  },
  {
   "cell_type": "code",
   "execution_count": null,
   "metadata": {},
   "outputs": [],
   "source": []
  }
 ],
 "metadata": {
  "kernelspec": {
   "display_name": "Python 3",
   "language": "python",
   "name": "python3"
  },
  "language_info": {
   "codemirror_mode": {
    "name": "ipython",
    "version": 3
   },
   "file_extension": ".py",
   "mimetype": "text/x-python",
   "name": "python",
   "nbconvert_exporter": "python",
   "pygments_lexer": "ipython3",
   "version": "3.7.4"
  }
 },
 "nbformat": 4,
 "nbformat_minor": 2
}
